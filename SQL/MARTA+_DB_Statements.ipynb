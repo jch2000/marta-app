{
  "nbformat": 4,
  "nbformat_minor": 0,
  "metadata": {
    "colab": {
      "provenance": []
    },
    "kernelspec": {
      "name": "python3",
      "display_name": "Python 3"
    },
    "language_info": {
      "name": "python"
    }
  },
  "cells": [
    {
      "cell_type": "code",
      "source": [
        "import pandas as pd\n",
        "import time"
      ],
      "metadata": {
        "id": "Bj7VhRNYHxvE"
      },
      "execution_count": 76,
      "outputs": []
    },
    {
      "cell_type": "code",
      "source": [
        "blue_east_schedule = pd.read_csv(\"https://raw.githubusercontent.com/jch2000/marta-app/main/schedules%20csv/Blue%20Line%20Weekday%20Eastbound.csv\")\n",
        "blue_west_schedule = pd.read_csv(\"https://raw.githubusercontent.com/jch2000/marta-app/main/schedules%20csv/Blue%20Line%20Weekday%20Westbound.csv\")\n",
        "\n",
        "green_east_schedule = pd.read_csv(\"https://raw.githubusercontent.com/jch2000/marta-app/main/schedules%20csv/Green%20Line%20Weekday%20Eastbound.csv\")\n",
        "green_west_schedule = pd.read_csv(\"https://raw.githubusercontent.com/jch2000/marta-app/main/schedules%20csv/Green%20Line%20Weekday%20Westbound.csv\")\n",
        "\n",
        "red_south_schedule = pd.read_csv(\"https://raw.githubusercontent.com/jch2000/marta-app/main/schedules%20csv/Red%20Line%20Weekday%20Southbound.csv\")\n",
        "red_north_schedule = pd.read_csv(\"https://raw.githubusercontent.com/jch2000/marta-app/main/schedules%20csv/Red%20Line%20Weekday%20Northbound.csv\")\n",
        "\n",
        "gold_south_schedule = pd.read_csv(\"https://raw.githubusercontent.com/jch2000/marta-app/main/schedules%20csv/Gold%20Line%20Weekday%20Southbound.csv\")\n",
        "gold_north_schedule = pd.read_csv(\"https://raw.githubusercontent.com/jch2000/marta-app/main/schedules%20csv/Gold%20Line%20Weekday%20Northbound.csv\")"
      ],
      "metadata": {
        "id": "XO4huy_EW_ma"
      },
      "execution_count": 77,
      "outputs": []
    },
    {
      "cell_type": "code",
      "source": [
        "green_east_schedule.head(2)"
      ],
      "metadata": {
        "colab": {
          "base_uri": "https://localhost:8080/",
          "height": 112
        },
        "id": "g6ow6QRdmL88",
        "outputId": "7a97bef1-f965-470e-8927-a6b12286dcfa"
      },
      "execution_count": 78,
      "outputs": [
        {
          "output_type": "execute_result",
          "data": {
            "text/plain": [
              "  Bankhead Station Ashby Station Vine City Station GWCC-CNN Station  \\\n",
              "0          4:55 AM       4:59 AM           5:00 AM          5:01 AM   \n",
              "1          5:15 AM       5:19 AM           5:20 AM          5:21 AM   \n",
              "\n",
              "  Five Points Station Georgia State Station King Memorial Station  \\\n",
              "0             5:02 AM               5:03 AM               5:05 AM   \n",
              "1             5:22 AM               5:23 AM               5:25 AM   \n",
              "\n",
              "  Inman Park Station Edgewood-Candler Park Station  \n",
              "0            5:08 AM                       5:10 AM  \n",
              "1            5:28 AM                       5:30 AM  "
            ],
            "text/html": [
              "\n",
              "  <div id=\"df-d346ca58-c595-4d03-be83-dc854e1bab5d\">\n",
              "    <div class=\"colab-df-container\">\n",
              "      <div>\n",
              "<style scoped>\n",
              "    .dataframe tbody tr th:only-of-type {\n",
              "        vertical-align: middle;\n",
              "    }\n",
              "\n",
              "    .dataframe tbody tr th {\n",
              "        vertical-align: top;\n",
              "    }\n",
              "\n",
              "    .dataframe thead th {\n",
              "        text-align: right;\n",
              "    }\n",
              "</style>\n",
              "<table border=\"1\" class=\"dataframe\">\n",
              "  <thead>\n",
              "    <tr style=\"text-align: right;\">\n",
              "      <th></th>\n",
              "      <th>Bankhead Station</th>\n",
              "      <th>Ashby Station</th>\n",
              "      <th>Vine City Station</th>\n",
              "      <th>GWCC-CNN Station</th>\n",
              "      <th>Five Points Station</th>\n",
              "      <th>Georgia State Station</th>\n",
              "      <th>King Memorial Station</th>\n",
              "      <th>Inman Park Station</th>\n",
              "      <th>Edgewood-Candler Park Station</th>\n",
              "    </tr>\n",
              "  </thead>\n",
              "  <tbody>\n",
              "    <tr>\n",
              "      <th>0</th>\n",
              "      <td>4:55 AM</td>\n",
              "      <td>4:59 AM</td>\n",
              "      <td>5:00 AM</td>\n",
              "      <td>5:01 AM</td>\n",
              "      <td>5:02 AM</td>\n",
              "      <td>5:03 AM</td>\n",
              "      <td>5:05 AM</td>\n",
              "      <td>5:08 AM</td>\n",
              "      <td>5:10 AM</td>\n",
              "    </tr>\n",
              "    <tr>\n",
              "      <th>1</th>\n",
              "      <td>5:15 AM</td>\n",
              "      <td>5:19 AM</td>\n",
              "      <td>5:20 AM</td>\n",
              "      <td>5:21 AM</td>\n",
              "      <td>5:22 AM</td>\n",
              "      <td>5:23 AM</td>\n",
              "      <td>5:25 AM</td>\n",
              "      <td>5:28 AM</td>\n",
              "      <td>5:30 AM</td>\n",
              "    </tr>\n",
              "  </tbody>\n",
              "</table>\n",
              "</div>\n",
              "      <button class=\"colab-df-convert\" onclick=\"convertToInteractive('df-d346ca58-c595-4d03-be83-dc854e1bab5d')\"\n",
              "              title=\"Convert this dataframe to an interactive table.\"\n",
              "              style=\"display:none;\">\n",
              "        \n",
              "  <svg xmlns=\"http://www.w3.org/2000/svg\" height=\"24px\"viewBox=\"0 0 24 24\"\n",
              "       width=\"24px\">\n",
              "    <path d=\"M0 0h24v24H0V0z\" fill=\"none\"/>\n",
              "    <path d=\"M18.56 5.44l.94 2.06.94-2.06 2.06-.94-2.06-.94-.94-2.06-.94 2.06-2.06.94zm-11 1L8.5 8.5l.94-2.06 2.06-.94-2.06-.94L8.5 2.5l-.94 2.06-2.06.94zm10 10l.94 2.06.94-2.06 2.06-.94-2.06-.94-.94-2.06-.94 2.06-2.06.94z\"/><path d=\"M17.41 7.96l-1.37-1.37c-.4-.4-.92-.59-1.43-.59-.52 0-1.04.2-1.43.59L10.3 9.45l-7.72 7.72c-.78.78-.78 2.05 0 2.83L4 21.41c.39.39.9.59 1.41.59.51 0 1.02-.2 1.41-.59l7.78-7.78 2.81-2.81c.8-.78.8-2.07 0-2.86zM5.41 20L4 18.59l7.72-7.72 1.47 1.35L5.41 20z\"/>\n",
              "  </svg>\n",
              "      </button>\n",
              "      \n",
              "  <style>\n",
              "    .colab-df-container {\n",
              "      display:flex;\n",
              "      flex-wrap:wrap;\n",
              "      gap: 12px;\n",
              "    }\n",
              "\n",
              "    .colab-df-convert {\n",
              "      background-color: #E8F0FE;\n",
              "      border: none;\n",
              "      border-radius: 50%;\n",
              "      cursor: pointer;\n",
              "      display: none;\n",
              "      fill: #1967D2;\n",
              "      height: 32px;\n",
              "      padding: 0 0 0 0;\n",
              "      width: 32px;\n",
              "    }\n",
              "\n",
              "    .colab-df-convert:hover {\n",
              "      background-color: #E2EBFA;\n",
              "      box-shadow: 0px 1px 2px rgba(60, 64, 67, 0.3), 0px 1px 3px 1px rgba(60, 64, 67, 0.15);\n",
              "      fill: #174EA6;\n",
              "    }\n",
              "\n",
              "    [theme=dark] .colab-df-convert {\n",
              "      background-color: #3B4455;\n",
              "      fill: #D2E3FC;\n",
              "    }\n",
              "\n",
              "    [theme=dark] .colab-df-convert:hover {\n",
              "      background-color: #434B5C;\n",
              "      box-shadow: 0px 1px 3px 1px rgba(0, 0, 0, 0.15);\n",
              "      filter: drop-shadow(0px 1px 2px rgba(0, 0, 0, 0.3));\n",
              "      fill: #FFFFFF;\n",
              "    }\n",
              "  </style>\n",
              "\n",
              "      <script>\n",
              "        const buttonEl =\n",
              "          document.querySelector('#df-d346ca58-c595-4d03-be83-dc854e1bab5d button.colab-df-convert');\n",
              "        buttonEl.style.display =\n",
              "          google.colab.kernel.accessAllowed ? 'block' : 'none';\n",
              "\n",
              "        async function convertToInteractive(key) {\n",
              "          const element = document.querySelector('#df-d346ca58-c595-4d03-be83-dc854e1bab5d');\n",
              "          const dataTable =\n",
              "            await google.colab.kernel.invokeFunction('convertToInteractive',\n",
              "                                                     [key], {});\n",
              "          if (!dataTable) return;\n",
              "\n",
              "          const docLinkHtml = 'Like what you see? Visit the ' +\n",
              "            '<a target=\"_blank\" href=https://colab.research.google.com/notebooks/data_table.ipynb>data table notebook</a>'\n",
              "            + ' to learn more about interactive tables.';\n",
              "          element.innerHTML = '';\n",
              "          dataTable['output_type'] = 'display_data';\n",
              "          await google.colab.output.renderOutput(dataTable, element);\n",
              "          const docLink = document.createElement('div');\n",
              "          docLink.innerHTML = docLinkHtml;\n",
              "          element.appendChild(docLink);\n",
              "        }\n",
              "      </script>\n",
              "    </div>\n",
              "  </div>\n",
              "  "
            ]
          },
          "metadata": {},
          "execution_count": 78
        }
      ]
    },
    {
      "cell_type": "code",
      "source": [
        "red_north_schedule.head(2)"
      ],
      "metadata": {
        "colab": {
          "base_uri": "https://localhost:8080/",
          "height": 191
        },
        "id": "jFrAh6DV4Kr0",
        "outputId": "9b8cee94-d30d-4488-cf0f-c8d7d58b78d5"
      },
      "execution_count": 79,
      "outputs": [
        {
          "output_type": "execute_result",
          "data": {
            "text/plain": [
              "  Airport Station College Park Station East Point Station Lakewood Station  \\\n",
              "0         4:50 AM              4:52 AM            4:55 AM          4:58 AM   \n",
              "1         5:10 AM              5:12 AM            5:15 AM          5:18 AM   \n",
              "\n",
              "  Oakland City Station West End Station Garnett Station Five Points Station  \\\n",
              "0              5:00 AM          5:02 AM         5:04 AM             5:07 AM   \n",
              "1              5:20 AM          5:22 AM         5:24 AM             5:27 AM   \n",
              "\n",
              "  Peachtree Center Station Civic Center Station North Ave Station  \\\n",
              "0                  5:08 AM              5:09 AM           5:11 AM   \n",
              "1                  5:28 AM              5:29 AM           5:31 AM   \n",
              "\n",
              "  Midtown Station Arts Center Station Lindbergh Station Buckhead Station  \\\n",
              "0         5:12 AM             5:14 AM           5:18 AM          5:22 AM   \n",
              "1         5:32 AM             5:34 AM           5:38 AM          5:42 AM   \n",
              "\n",
              "  Medical Center Station Dunwoody Station Sandy Springs Station  \\\n",
              "0                5:27 AM          5:29 AM               5:31 AM   \n",
              "1                5:47 AM          5:49 AM               5:51 AM   \n",
              "\n",
              "  North Springs Station  \n",
              "0               5:33 AM  \n",
              "1               5:53 AM  "
            ],
            "text/html": [
              "\n",
              "  <div id=\"df-b62e1c07-acaf-4e0c-b35d-aa999704795e\">\n",
              "    <div class=\"colab-df-container\">\n",
              "      <div>\n",
              "<style scoped>\n",
              "    .dataframe tbody tr th:only-of-type {\n",
              "        vertical-align: middle;\n",
              "    }\n",
              "\n",
              "    .dataframe tbody tr th {\n",
              "        vertical-align: top;\n",
              "    }\n",
              "\n",
              "    .dataframe thead th {\n",
              "        text-align: right;\n",
              "    }\n",
              "</style>\n",
              "<table border=\"1\" class=\"dataframe\">\n",
              "  <thead>\n",
              "    <tr style=\"text-align: right;\">\n",
              "      <th></th>\n",
              "      <th>Airport Station</th>\n",
              "      <th>College Park Station</th>\n",
              "      <th>East Point Station</th>\n",
              "      <th>Lakewood Station</th>\n",
              "      <th>Oakland City Station</th>\n",
              "      <th>West End Station</th>\n",
              "      <th>Garnett Station</th>\n",
              "      <th>Five Points Station</th>\n",
              "      <th>Peachtree Center Station</th>\n",
              "      <th>Civic Center Station</th>\n",
              "      <th>North Ave Station</th>\n",
              "      <th>Midtown Station</th>\n",
              "      <th>Arts Center Station</th>\n",
              "      <th>Lindbergh Station</th>\n",
              "      <th>Buckhead Station</th>\n",
              "      <th>Medical Center Station</th>\n",
              "      <th>Dunwoody Station</th>\n",
              "      <th>Sandy Springs Station</th>\n",
              "      <th>North Springs Station</th>\n",
              "    </tr>\n",
              "  </thead>\n",
              "  <tbody>\n",
              "    <tr>\n",
              "      <th>0</th>\n",
              "      <td>4:50 AM</td>\n",
              "      <td>4:52 AM</td>\n",
              "      <td>4:55 AM</td>\n",
              "      <td>4:58 AM</td>\n",
              "      <td>5:00 AM</td>\n",
              "      <td>5:02 AM</td>\n",
              "      <td>5:04 AM</td>\n",
              "      <td>5:07 AM</td>\n",
              "      <td>5:08 AM</td>\n",
              "      <td>5:09 AM</td>\n",
              "      <td>5:11 AM</td>\n",
              "      <td>5:12 AM</td>\n",
              "      <td>5:14 AM</td>\n",
              "      <td>5:18 AM</td>\n",
              "      <td>5:22 AM</td>\n",
              "      <td>5:27 AM</td>\n",
              "      <td>5:29 AM</td>\n",
              "      <td>5:31 AM</td>\n",
              "      <td>5:33 AM</td>\n",
              "    </tr>\n",
              "    <tr>\n",
              "      <th>1</th>\n",
              "      <td>5:10 AM</td>\n",
              "      <td>5:12 AM</td>\n",
              "      <td>5:15 AM</td>\n",
              "      <td>5:18 AM</td>\n",
              "      <td>5:20 AM</td>\n",
              "      <td>5:22 AM</td>\n",
              "      <td>5:24 AM</td>\n",
              "      <td>5:27 AM</td>\n",
              "      <td>5:28 AM</td>\n",
              "      <td>5:29 AM</td>\n",
              "      <td>5:31 AM</td>\n",
              "      <td>5:32 AM</td>\n",
              "      <td>5:34 AM</td>\n",
              "      <td>5:38 AM</td>\n",
              "      <td>5:42 AM</td>\n",
              "      <td>5:47 AM</td>\n",
              "      <td>5:49 AM</td>\n",
              "      <td>5:51 AM</td>\n",
              "      <td>5:53 AM</td>\n",
              "    </tr>\n",
              "  </tbody>\n",
              "</table>\n",
              "</div>\n",
              "      <button class=\"colab-df-convert\" onclick=\"convertToInteractive('df-b62e1c07-acaf-4e0c-b35d-aa999704795e')\"\n",
              "              title=\"Convert this dataframe to an interactive table.\"\n",
              "              style=\"display:none;\">\n",
              "        \n",
              "  <svg xmlns=\"http://www.w3.org/2000/svg\" height=\"24px\"viewBox=\"0 0 24 24\"\n",
              "       width=\"24px\">\n",
              "    <path d=\"M0 0h24v24H0V0z\" fill=\"none\"/>\n",
              "    <path d=\"M18.56 5.44l.94 2.06.94-2.06 2.06-.94-2.06-.94-.94-2.06-.94 2.06-2.06.94zm-11 1L8.5 8.5l.94-2.06 2.06-.94-2.06-.94L8.5 2.5l-.94 2.06-2.06.94zm10 10l.94 2.06.94-2.06 2.06-.94-2.06-.94-.94-2.06-.94 2.06-2.06.94z\"/><path d=\"M17.41 7.96l-1.37-1.37c-.4-.4-.92-.59-1.43-.59-.52 0-1.04.2-1.43.59L10.3 9.45l-7.72 7.72c-.78.78-.78 2.05 0 2.83L4 21.41c.39.39.9.59 1.41.59.51 0 1.02-.2 1.41-.59l7.78-7.78 2.81-2.81c.8-.78.8-2.07 0-2.86zM5.41 20L4 18.59l7.72-7.72 1.47 1.35L5.41 20z\"/>\n",
              "  </svg>\n",
              "      </button>\n",
              "      \n",
              "  <style>\n",
              "    .colab-df-container {\n",
              "      display:flex;\n",
              "      flex-wrap:wrap;\n",
              "      gap: 12px;\n",
              "    }\n",
              "\n",
              "    .colab-df-convert {\n",
              "      background-color: #E8F0FE;\n",
              "      border: none;\n",
              "      border-radius: 50%;\n",
              "      cursor: pointer;\n",
              "      display: none;\n",
              "      fill: #1967D2;\n",
              "      height: 32px;\n",
              "      padding: 0 0 0 0;\n",
              "      width: 32px;\n",
              "    }\n",
              "\n",
              "    .colab-df-convert:hover {\n",
              "      background-color: #E2EBFA;\n",
              "      box-shadow: 0px 1px 2px rgba(60, 64, 67, 0.3), 0px 1px 3px 1px rgba(60, 64, 67, 0.15);\n",
              "      fill: #174EA6;\n",
              "    }\n",
              "\n",
              "    [theme=dark] .colab-df-convert {\n",
              "      background-color: #3B4455;\n",
              "      fill: #D2E3FC;\n",
              "    }\n",
              "\n",
              "    [theme=dark] .colab-df-convert:hover {\n",
              "      background-color: #434B5C;\n",
              "      box-shadow: 0px 1px 3px 1px rgba(0, 0, 0, 0.15);\n",
              "      filter: drop-shadow(0px 1px 2px rgba(0, 0, 0, 0.3));\n",
              "      fill: #FFFFFF;\n",
              "    }\n",
              "  </style>\n",
              "\n",
              "      <script>\n",
              "        const buttonEl =\n",
              "          document.querySelector('#df-b62e1c07-acaf-4e0c-b35d-aa999704795e button.colab-df-convert');\n",
              "        buttonEl.style.display =\n",
              "          google.colab.kernel.accessAllowed ? 'block' : 'none';\n",
              "\n",
              "        async function convertToInteractive(key) {\n",
              "          const element = document.querySelector('#df-b62e1c07-acaf-4e0c-b35d-aa999704795e');\n",
              "          const dataTable =\n",
              "            await google.colab.kernel.invokeFunction('convertToInteractive',\n",
              "                                                     [key], {});\n",
              "          if (!dataTable) return;\n",
              "\n",
              "          const docLinkHtml = 'Like what you see? Visit the ' +\n",
              "            '<a target=\"_blank\" href=https://colab.research.google.com/notebooks/data_table.ipynb>data table notebook</a>'\n",
              "            + ' to learn more about interactive tables.';\n",
              "          element.innerHTML = '';\n",
              "          dataTable['output_type'] = 'display_data';\n",
              "          await google.colab.output.renderOutput(dataTable, element);\n",
              "          const docLink = document.createElement('div');\n",
              "          docLink.innerHTML = docLinkHtml;\n",
              "          element.appendChild(docLink);\n",
              "        }\n",
              "      </script>\n",
              "    </div>\n",
              "  </div>\n",
              "  "
            ]
          },
          "metadata": {},
          "execution_count": 79
        }
      ]
    },
    {
      "cell_type": "markdown",
      "source": [
        "_________________________\n",
        "## Station Names (according to Station Table)"
      ],
      "metadata": {
        "id": "dOHgFikGHOOi"
      }
    },
    {
      "cell_type": "code",
      "source": [
        "# # get the column names from DF\n",
        "# print(list(gold_south_schedule.columns))\n",
        "\n",
        "# # use CTRL + F to find and replace the word Station\n",
        "\n",
        "# # manually edit to make sure each station name is the same as name in Station Table\n",
        "\n",
        "# # for the west bound version of east, or northbound version of south and vice versa, reverse the resulting table:\n",
        "# print(list(reversed(['Doraville', 'Chamblee', 'Brookhaven', 'Lenox', 'Lindbergh Center', 'Arts Center', 'Midtown', 'North Avenue', 'Civic Center', 'Peachtree Center', 'Five Points', 'Garnett', 'West End', 'Oakland City', 'Lakewood', 'East Point', 'College Park', 'Airport'])))"
      ],
      "metadata": {
        "id": "FvbqQJTMzUBq"
      },
      "execution_count": 80,
      "outputs": []
    },
    {
      "cell_type": "code",
      "source": [
        "st_names_blue_east = ['H.E. Holmes', 'West Lake', 'Ashby', 'Vine City', 'GWCC/Mercedes-Benz Stadium', 'Five Points', 'Georgia State', 'King Memorial', 'Inman Park/Reynoldstown', 'Candler Park', 'East Lake', 'Decatur', 'Avondale', 'Kensington', 'Indian Creek']\n",
        "st_names_blue_west = ['Indian Creek', 'Kensington', 'Avondale', 'Decatur', 'East Lake', 'Candler Park', 'Inman Park/Reynoldstown', 'King Memorial', 'Georgia State', 'Five Points', 'GWCC/Mercedes-Benz Stadium', 'Vine City', 'Ashby', 'West Lake', 'H.E. Holmes']\n",
        "st_names_green_east = ['Bankhead', 'Ashby', 'Vine City', 'GWCC/Mercedes-Benz Stadium', 'Five Points', 'Georgia State', 'King Memorial', 'Inman Park/Reynoldstown', 'Candler Park']\n",
        "st_names_green_west = ['Candler Park', 'Inman Park/Reynoldstown', 'King Memorial', 'Georgia State', 'Five Points', 'GWCC/Mercedes-Benz Stadium', 'Vine City', 'Ashby', 'Bankhead']\n",
        "st_names_red_south = ['North Springs', 'Sandy Springs', 'Dunwoody', 'Medical Center', 'Buckhead', 'Lindbergh Center', 'Arts Center', 'Midtown', 'North Avenue', 'Civic Center', 'Peachtree Center', 'Five Points', 'Garnett', 'West End', 'Oakland City', 'Lakewood', 'East Point', 'College Park', 'Airport']\n",
        "st_names_red_north = ['Airport', 'College Park', 'East Point', 'Lakewood', 'Oakland City', 'West End', 'Garnett', 'Five Points', 'Peachtree Center', 'Civic Center', 'North Avenue', 'Midtown', 'Arts Center', 'Lindbergh Center', 'Buckhead', 'Medical Center', 'Dunwoody', 'Sandy Springs', 'North Springs']\n",
        "st_names_gold_south = ['Doraville', 'Chamblee', 'Brookhaven', 'Lenox', 'Lindbergh Center', 'Arts Center', 'Midtown', 'North Avenue', 'Civic Center', 'Peachtree Center', 'Five Points', 'Garnett', 'West End', 'Oakland City', 'Lakewood', 'East Point', 'College Park', 'Airport']\n",
        "st_names_gold_north = ['Airport', 'College Park', 'East Point', 'Lakewood', 'Oakland City', 'West End', 'Garnett', 'Five Points', 'Peachtree Center', 'Civic Center', 'North Avenue', 'Midtown', 'Arts Center', 'Lindbergh Center', 'Lenox', 'Brookhaven', 'Chamblee', 'Doraville']"
      ],
      "metadata": {
        "id": "4S5tyVskoDYL"
      },
      "execution_count": 81,
      "outputs": []
    },
    {
      "cell_type": "markdown",
      "source": [
        "_______________________\n",
        "## Line and Direction ID Mapping"
      ],
      "metadata": {
        "id": "oKXGLHFwHGGE"
      }
    },
    {
      "cell_type": "code",
      "source": [
        "lineDict = {(\"blue\", \"w\") : 1, (\"blue\", \"e\") : 2, (\"green\", \"w\") : 3, (\"green\", \"e\") : 4, (\"red\", \"s\") : 5, (\"red\", \"n\") : 6, (\"gold\", \"s\") : 7, (\"gold\", \"n\") : 8}\n",
        "lineDict"
      ],
      "metadata": {
        "id": "9axm6Oznd_B9",
        "colab": {
          "base_uri": "https://localhost:8080/"
        },
        "outputId": "20326e4a-4087-468e-bcbf-a0213074adca"
      },
      "execution_count": 82,
      "outputs": [
        {
          "output_type": "execute_result",
          "data": {
            "text/plain": [
              "{('blue', 'w'): 1,\n",
              " ('blue', 'e'): 2,\n",
              " ('green', 'w'): 3,\n",
              " ('green', 'e'): 4,\n",
              " ('red', 's'): 5,\n",
              " ('red', 'n'): 6,\n",
              " ('gold', 's'): 7,\n",
              " ('gold', 'n'): 8}"
            ]
          },
          "metadata": {},
          "execution_count": 82
        }
      ]
    },
    {
      "cell_type": "markdown",
      "source": [
        "______________________________\n",
        "## Train Schedule Insert Statements"
      ],
      "metadata": {
        "id": "eFRQtQWEG69t"
      }
    },
    {
      "cell_type": "markdown",
      "source": [
        "INSERT INTO TrainSchedule VALUES (id, 8, '06:14:00', '06:16:00', '06:19:00', '06:22:00', '06:24:00', '06:26:00', '06:28:00', '06:31:00', '06:32:00', '06:33:00', '06:35:00', '06:36:00', '06:38:00', '06:42:00', '06:45:00', '06:48:00', '06:52:00', '06:55:00', Null);"
      ],
      "metadata": {
        "id": "cq2hGSejvWxP"
      }
    },
    {
      "cell_type": "code",
      "source": [
        "def makeTimeInsert(df, line, dir, st_names):\n",
        "    for ind, row in df.iterrows():\n",
        "        ind = (str(line), str(dir))\n",
        "        line_id = lineDict[ind]\n",
        "\n",
        "        insert_statement = \"INSERT INTO TrainSchedule VALUES (id, \" + str(line_id)\n",
        "\n",
        "        for station in df.columns:\n",
        "            train_time = row[station]\n",
        "            insert_statement = insert_statement + ', \\'' + time.strftime(\"%m/%d/%Y, %H:%M:%S\", time.strptime(train_time, \"%I:%M %p\"))[-8:] + '\\''\n",
        "\n",
        "        for i in range(len(df.columns), 19):\n",
        "            insert_statement += \", Null\"\n",
        "\n",
        "        insert_statement += \");\"\n",
        "        \n",
        "        print(insert_statement)"
      ],
      "metadata": {
        "id": "AorweQ_P4VZa"
      },
      "execution_count": 83,
      "outputs": []
    },
    {
      "cell_type": "code",
      "source": [
        "makeTimeInsert(gold_north_schedule, \"gold\", \"n\", gold_north_schedule.columns)"
      ],
      "metadata": {
        "colab": {
          "base_uri": "https://localhost:8080/"
        },
        "id": "rUuGnxBsw5Y9",
        "outputId": "0ee0082d-ab0f-422a-b134-ae0537b6a032"
      },
      "execution_count": 84,
      "outputs": [
        {
          "output_type": "stream",
          "name": "stdout",
          "text": [
            "INSERT INTO TrainSchedule VALUES (id, 8, '04:40:00', '04:42:00', '04:45:00', '04:48:00', '04:50:00', '04:52:00', '04:54:00', '04:57:00', '04:58:00', '04:59:00', '05:01:00', '05:02:00', '05:04:00', '05:08:00', '05:11:00', '05:14:00', '05:18:00', '05:21:00', Null);\n",
            "INSERT INTO TrainSchedule VALUES (id, 8, '05:00:00', '05:02:00', '05:05:00', '05:08:00', '05:10:00', '05:12:00', '05:14:00', '05:17:00', '05:18:00', '05:19:00', '05:21:00', '05:22:00', '05:24:00', '05:28:00', '05:31:00', '05:34:00', '05:38:00', '05:41:00', Null);\n",
            "INSERT INTO TrainSchedule VALUES (id, 8, '05:20:00', '05:22:00', '05:25:00', '05:28:00', '05:30:00', '05:32:00', '05:34:00', '05:37:00', '05:38:00', '05:39:00', '05:41:00', '05:42:00', '05:44:00', '05:48:00', '05:51:00', '05:54:00', '05:58:00', '06:01:00', Null);\n",
            "INSERT INTO TrainSchedule VALUES (id, 8, '05:40:00', '05:42:00', '05:45:00', '05:48:00', '05:50:00', '05:52:00', '05:54:00', '05:57:00', '05:58:00', '05:59:00', '06:01:00', '06:02:00', '06:04:00', '06:08:00', '06:11:00', '06:14:00', '06:18:00', '06:21:00', Null);\n",
            "INSERT INTO TrainSchedule VALUES (id, 8, '06:00:00', '06:02:00', '06:05:00', '06:08:00', '06:10:00', '06:12:00', '06:14:00', '06:17:00', '06:18:00', '06:19:00', '06:21:00', '06:22:00', '06:24:00', '06:28:00', '06:31:00', '06:34:00', '06:38:00', '06:41:00', Null);\n",
            "INSERT INTO TrainSchedule VALUES (id, 8, '06:14:00', '06:16:00', '06:19:00', '06:22:00', '06:24:00', '06:26:00', '06:28:00', '06:31:00', '06:32:00', '06:33:00', '06:35:00', '06:36:00', '06:38:00', '06:42:00', '06:45:00', '06:48:00', '06:52:00', '06:55:00', Null);\n",
            "INSERT INTO TrainSchedule VALUES (id, 8, '06:30:00', '06:32:00', '06:35:00', '06:38:00', '06:40:00', '06:42:00', '06:44:00', '06:47:00', '06:48:00', '06:49:00', '06:51:00', '06:52:00', '06:54:00', '06:58:00', '07:01:00', '07:04:00', '07:08:00', '07:11:00', Null);\n",
            "INSERT INTO TrainSchedule VALUES (id, 8, '06:45:00', '06:47:00', '06:50:00', '06:53:00', '06:55:00', '06:57:00', '06:59:00', '07:02:00', '07:03:00', '07:04:00', '07:06:00', '07:07:00', '07:09:00', '07:13:00', '07:16:00', '07:19:00', '07:23:00', '07:26:00', Null);\n",
            "INSERT INTO TrainSchedule VALUES (id, 8, '07:00:00', '07:02:00', '07:05:00', '07:08:00', '07:10:00', '07:12:00', '07:14:00', '07:17:00', '07:18:00', '07:19:00', '07:21:00', '07:22:00', '07:24:00', '07:28:00', '07:31:00', '07:34:00', '07:38:00', '07:41:00', Null);\n",
            "INSERT INTO TrainSchedule VALUES (id, 8, '07:15:00', '07:17:00', '07:20:00', '07:23:00', '07:25:00', '07:27:00', '07:29:00', '07:32:00', '07:33:00', '07:34:00', '07:36:00', '07:37:00', '07:39:00', '07:43:00', '07:46:00', '07:49:00', '07:53:00', '07:56:00', Null);\n",
            "INSERT INTO TrainSchedule VALUES (id, 8, '07:30:00', '07:32:00', '07:35:00', '07:38:00', '07:40:00', '07:42:00', '07:44:00', '07:47:00', '07:48:00', '07:49:00', '07:51:00', '07:52:00', '07:54:00', '07:58:00', '08:01:00', '08:04:00', '08:08:00', '08:11:00', Null);\n",
            "INSERT INTO TrainSchedule VALUES (id, 8, '07:45:00', '07:47:00', '07:50:00', '07:53:00', '07:55:00', '07:57:00', '07:59:00', '08:02:00', '08:03:00', '08:04:00', '08:06:00', '08:07:00', '08:09:00', '08:13:00', '08:16:00', '08:19:00', '08:23:00', '08:26:00', Null);\n",
            "INSERT INTO TrainSchedule VALUES (id, 8, '08:00:00', '08:02:00', '08:05:00', '08:08:00', '08:10:00', '08:12:00', '08:14:00', '08:17:00', '08:18:00', '08:19:00', '08:21:00', '08:22:00', '08:24:00', '08:28:00', '08:31:00', '08:34:00', '08:38:00', '08:41:00', Null);\n",
            "INSERT INTO TrainSchedule VALUES (id, 8, '08:15:00', '08:17:00', '08:20:00', '08:23:00', '08:25:00', '08:27:00', '08:29:00', '08:32:00', '08:33:00', '08:34:00', '08:36:00', '08:37:00', '08:39:00', '08:43:00', '08:46:00', '08:49:00', '08:53:00', '08:56:00', Null);\n",
            "INSERT INTO TrainSchedule VALUES (id, 8, '08:30:00', '08:32:00', '08:35:00', '08:38:00', '08:40:00', '08:42:00', '08:44:00', '08:47:00', '08:48:00', '08:49:00', '08:51:00', '08:52:00', '08:54:00', '08:58:00', '09:01:00', '09:04:00', '09:08:00', '09:11:00', Null);\n",
            "INSERT INTO TrainSchedule VALUES (id, 8, '08:45:00', '08:47:00', '08:50:00', '08:53:00', '08:55:00', '08:57:00', '08:59:00', '09:02:00', '09:03:00', '09:04:00', '09:06:00', '09:07:00', '09:09:00', '09:13:00', '09:16:00', '09:19:00', '09:23:00', '09:26:00', Null);\n",
            "INSERT INTO TrainSchedule VALUES (id, 8, '09:00:00', '09:02:00', '09:05:00', '09:08:00', '09:10:00', '09:12:00', '09:14:00', '09:17:00', '09:18:00', '09:19:00', '09:21:00', '09:22:00', '09:24:00', '09:28:00', '09:31:00', '09:34:00', '09:38:00', '09:41:00', Null);\n",
            "INSERT INTO TrainSchedule VALUES (id, 8, '09:15:00', '09:17:00', '09:20:00', '09:23:00', '09:25:00', '09:27:00', '09:29:00', '09:32:00', '09:33:00', '09:34:00', '09:36:00', '09:37:00', '09:39:00', '09:43:00', '09:46:00', '09:49:00', '09:53:00', '09:56:00', Null);\n",
            "INSERT INTO TrainSchedule VALUES (id, 8, '09:30:00', '09:32:00', '09:35:00', '09:38:00', '09:40:00', '09:42:00', '09:44:00', '09:47:00', '09:48:00', '09:49:00', '09:51:00', '09:52:00', '09:54:00', '09:58:00', '10:01:00', '10:04:00', '10:08:00', '10:11:00', Null);\n",
            "INSERT INTO TrainSchedule VALUES (id, 8, '09:45:00', '09:47:00', '09:50:00', '09:53:00', '09:55:00', '09:57:00', '09:59:00', '10:02:00', '10:03:00', '10:04:00', '10:06:00', '10:07:00', '10:09:00', '10:13:00', '10:16:00', '10:19:00', '10:23:00', '10:26:00', Null);\n",
            "INSERT INTO TrainSchedule VALUES (id, 8, '10:00:00', '10:02:00', '10:05:00', '10:08:00', '10:10:00', '10:12:00', '10:14:00', '10:17:00', '10:18:00', '10:19:00', '10:21:00', '10:22:00', '10:24:00', '10:28:00', '10:31:00', '10:34:00', '10:38:00', '10:41:00', Null);\n",
            "INSERT INTO TrainSchedule VALUES (id, 8, '10:15:00', '10:17:00', '10:20:00', '10:23:00', '10:25:00', '10:27:00', '10:29:00', '10:32:00', '10:33:00', '10:34:00', '10:36:00', '10:37:00', '10:39:00', '10:43:00', '10:46:00', '10:49:00', '10:53:00', '10:56:00', Null);\n",
            "INSERT INTO TrainSchedule VALUES (id, 8, '10:30:00', '10:32:00', '10:35:00', '10:38:00', '10:40:00', '10:42:00', '10:44:00', '10:47:00', '10:48:00', '10:49:00', '10:51:00', '10:52:00', '10:54:00', '10:58:00', '11:01:00', '11:04:00', '11:08:00', '11:11:00', Null);\n",
            "INSERT INTO TrainSchedule VALUES (id, 8, '10:45:00', '10:47:00', '10:50:00', '10:53:00', '10:55:00', '10:57:00', '10:59:00', '11:02:00', '11:03:00', '11:04:00', '11:06:00', '11:07:00', '11:09:00', '11:13:00', '11:16:00', '11:19:00', '11:23:00', '11:26:00', Null);\n",
            "INSERT INTO TrainSchedule VALUES (id, 8, '11:00:00', '11:02:00', '11:05:00', '11:08:00', '11:10:00', '11:12:00', '11:14:00', '11:17:00', '11:18:00', '11:19:00', '11:21:00', '11:22:00', '11:24:00', '11:28:00', '11:31:00', '11:34:00', '11:38:00', '11:41:00', Null);\n",
            "INSERT INTO TrainSchedule VALUES (id, 8, '11:15:00', '11:17:00', '11:20:00', '11:23:00', '11:25:00', '11:27:00', '11:29:00', '11:32:00', '11:33:00', '11:34:00', '11:36:00', '11:37:00', '11:39:00', '11:43:00', '11:46:00', '11:49:00', '11:53:00', '11:56:00', Null);\n",
            "INSERT INTO TrainSchedule VALUES (id, 8, '11:30:00', '11:32:00', '11:35:00', '11:38:00', '11:40:00', '11:42:00', '11:44:00', '11:47:00', '11:48:00', '11:49:00', '11:51:00', '11:52:00', '11:54:00', '11:58:00', '12:01:00', '12:04:00', '12:08:00', '12:11:00', Null);\n",
            "INSERT INTO TrainSchedule VALUES (id, 8, '11:45:00', '11:47:00', '11:50:00', '11:53:00', '11:55:00', '11:57:00', '11:59:00', '12:02:00', '12:03:00', '12:04:00', '12:06:00', '12:07:00', '12:09:00', '12:13:00', '12:16:00', '12:19:00', '12:23:00', '12:26:00', Null);\n",
            "INSERT INTO TrainSchedule VALUES (id, 8, '12:00:00', '12:02:00', '12:05:00', '12:08:00', '12:10:00', '12:12:00', '12:14:00', '12:17:00', '12:18:00', '12:19:00', '12:21:00', '12:22:00', '12:24:00', '12:28:00', '12:31:00', '12:34:00', '12:38:00', '12:41:00', Null);\n",
            "INSERT INTO TrainSchedule VALUES (id, 8, '12:15:00', '12:17:00', '12:20:00', '12:23:00', '12:25:00', '12:27:00', '12:29:00', '12:32:00', '12:33:00', '12:34:00', '12:36:00', '12:37:00', '12:39:00', '12:43:00', '12:46:00', '12:49:00', '12:53:00', '12:56:00', Null);\n",
            "INSERT INTO TrainSchedule VALUES (id, 8, '12:30:00', '12:32:00', '12:35:00', '12:38:00', '12:40:00', '12:42:00', '12:44:00', '12:47:00', '12:48:00', '12:49:00', '12:51:00', '12:52:00', '12:54:00', '12:58:00', '13:01:00', '13:04:00', '13:08:00', '13:11:00', Null);\n",
            "INSERT INTO TrainSchedule VALUES (id, 8, '12:45:00', '12:47:00', '12:50:00', '12:53:00', '12:55:00', '12:57:00', '12:59:00', '13:02:00', '13:03:00', '13:04:00', '13:06:00', '13:07:00', '13:09:00', '13:13:00', '13:16:00', '13:19:00', '13:23:00', '13:26:00', Null);\n",
            "INSERT INTO TrainSchedule VALUES (id, 8, '13:00:00', '13:02:00', '13:05:00', '13:08:00', '13:10:00', '13:12:00', '13:14:00', '13:17:00', '13:18:00', '13:19:00', '13:21:00', '13:22:00', '13:24:00', '13:28:00', '13:31:00', '13:34:00', '13:38:00', '13:41:00', Null);\n",
            "INSERT INTO TrainSchedule VALUES (id, 8, '13:15:00', '13:17:00', '13:20:00', '13:23:00', '13:25:00', '13:27:00', '13:29:00', '13:32:00', '13:33:00', '13:34:00', '13:36:00', '13:37:00', '13:39:00', '13:43:00', '13:46:00', '13:49:00', '13:53:00', '13:56:00', Null);\n",
            "INSERT INTO TrainSchedule VALUES (id, 8, '13:30:00', '13:32:00', '13:35:00', '13:38:00', '13:40:00', '13:42:00', '13:44:00', '13:47:00', '13:48:00', '13:49:00', '13:51:00', '13:52:00', '13:54:00', '13:58:00', '14:01:00', '14:04:00', '14:08:00', '14:11:00', Null);\n",
            "INSERT INTO TrainSchedule VALUES (id, 8, '13:45:00', '13:47:00', '13:50:00', '13:53:00', '13:55:00', '13:57:00', '13:59:00', '14:02:00', '14:03:00', '14:04:00', '14:06:00', '14:07:00', '14:09:00', '14:13:00', '14:16:00', '14:19:00', '14:23:00', '14:26:00', Null);\n",
            "INSERT INTO TrainSchedule VALUES (id, 8, '14:00:00', '14:02:00', '14:05:00', '14:08:00', '14:10:00', '14:12:00', '14:14:00', '14:17:00', '14:18:00', '14:19:00', '14:21:00', '14:22:00', '14:24:00', '14:28:00', '14:31:00', '14:34:00', '14:38:00', '14:41:00', Null);\n",
            "INSERT INTO TrainSchedule VALUES (id, 8, '14:15:00', '14:17:00', '14:20:00', '14:23:00', '14:25:00', '14:27:00', '14:29:00', '14:32:00', '14:33:00', '14:34:00', '14:36:00', '14:37:00', '14:39:00', '14:43:00', '14:46:00', '14:49:00', '14:53:00', '14:56:00', Null);\n",
            "INSERT INTO TrainSchedule VALUES (id, 8, '14:30:00', '14:32:00', '14:35:00', '14:38:00', '14:40:00', '14:42:00', '14:44:00', '14:47:00', '14:48:00', '14:49:00', '14:51:00', '14:52:00', '14:54:00', '14:58:00', '15:01:00', '15:04:00', '15:08:00', '15:11:00', Null);\n",
            "INSERT INTO TrainSchedule VALUES (id, 8, '14:45:00', '14:47:00', '14:50:00', '14:53:00', '14:55:00', '14:57:00', '14:59:00', '15:02:00', '15:03:00', '15:04:00', '15:06:00', '15:07:00', '15:09:00', '15:13:00', '15:16:00', '15:19:00', '15:23:00', '15:26:00', Null);\n",
            "INSERT INTO TrainSchedule VALUES (id, 8, '15:00:00', '15:02:00', '15:05:00', '15:08:00', '15:10:00', '15:12:00', '15:14:00', '15:17:00', '15:18:00', '15:19:00', '15:21:00', '15:22:00', '15:24:00', '15:28:00', '15:31:00', '15:34:00', '15:38:00', '15:41:00', Null);\n",
            "INSERT INTO TrainSchedule VALUES (id, 8, '15:15:00', '15:17:00', '15:20:00', '15:23:00', '15:25:00', '15:27:00', '15:29:00', '15:32:00', '15:33:00', '15:34:00', '15:36:00', '15:37:00', '15:39:00', '15:43:00', '15:46:00', '15:49:00', '15:53:00', '15:56:00', Null);\n",
            "INSERT INTO TrainSchedule VALUES (id, 8, '15:30:00', '15:32:00', '15:35:00', '15:38:00', '15:40:00', '15:42:00', '15:44:00', '15:47:00', '15:48:00', '15:49:00', '15:51:00', '15:52:00', '15:54:00', '15:58:00', '16:01:00', '16:04:00', '16:08:00', '16:11:00', Null);\n",
            "INSERT INTO TrainSchedule VALUES (id, 8, '15:45:00', '15:47:00', '15:50:00', '15:53:00', '15:55:00', '15:57:00', '15:59:00', '16:02:00', '16:03:00', '16:04:00', '16:06:00', '16:07:00', '16:09:00', '16:13:00', '16:16:00', '16:19:00', '16:23:00', '16:26:00', Null);\n",
            "INSERT INTO TrainSchedule VALUES (id, 8, '16:00:00', '16:02:00', '16:05:00', '16:08:00', '16:10:00', '16:12:00', '16:14:00', '16:17:00', '16:18:00', '16:19:00', '16:21:00', '16:22:00', '16:24:00', '16:28:00', '16:31:00', '16:34:00', '16:38:00', '16:41:00', Null);\n",
            "INSERT INTO TrainSchedule VALUES (id, 8, '16:15:00', '16:17:00', '16:20:00', '16:23:00', '16:25:00', '16:27:00', '16:29:00', '16:32:00', '16:33:00', '16:34:00', '16:36:00', '16:37:00', '16:39:00', '16:43:00', '16:46:00', '16:49:00', '16:53:00', '16:56:00', Null);\n",
            "INSERT INTO TrainSchedule VALUES (id, 8, '16:30:00', '16:32:00', '16:35:00', '16:38:00', '16:40:00', '16:42:00', '16:44:00', '16:47:00', '16:48:00', '16:49:00', '16:51:00', '16:52:00', '16:54:00', '16:58:00', '17:01:00', '17:04:00', '17:08:00', '17:11:00', Null);\n",
            "INSERT INTO TrainSchedule VALUES (id, 8, '16:45:00', '16:47:00', '16:50:00', '16:53:00', '16:55:00', '16:57:00', '16:59:00', '17:02:00', '17:03:00', '17:04:00', '17:06:00', '17:07:00', '17:09:00', '17:13:00', '17:16:00', '17:19:00', '17:23:00', '17:26:00', Null);\n",
            "INSERT INTO TrainSchedule VALUES (id, 8, '17:00:00', '17:02:00', '17:05:00', '17:08:00', '17:10:00', '17:12:00', '17:14:00', '17:17:00', '17:18:00', '17:19:00', '17:21:00', '17:22:00', '17:24:00', '17:28:00', '17:31:00', '17:34:00', '17:38:00', '17:41:00', Null);\n",
            "INSERT INTO TrainSchedule VALUES (id, 8, '17:15:00', '17:17:00', '17:20:00', '17:23:00', '17:25:00', '17:27:00', '17:29:00', '17:32:00', '17:33:00', '17:34:00', '17:36:00', '17:37:00', '17:39:00', '17:43:00', '17:46:00', '17:49:00', '17:53:00', '17:56:00', Null);\n",
            "INSERT INTO TrainSchedule VALUES (id, 8, '17:30:00', '17:32:00', '17:35:00', '17:38:00', '17:40:00', '17:42:00', '17:44:00', '17:47:00', '17:48:00', '17:49:00', '17:51:00', '17:52:00', '17:54:00', '17:58:00', '18:01:00', '18:04:00', '18:08:00', '18:11:00', Null);\n",
            "INSERT INTO TrainSchedule VALUES (id, 8, '17:45:00', '17:47:00', '17:50:00', '17:53:00', '17:55:00', '17:57:00', '17:59:00', '18:02:00', '18:03:00', '18:04:00', '18:06:00', '18:07:00', '18:09:00', '18:13:00', '18:16:00', '18:19:00', '18:23:00', '18:26:00', Null);\n",
            "INSERT INTO TrainSchedule VALUES (id, 8, '18:00:00', '18:02:00', '18:05:00', '18:08:00', '18:10:00', '18:12:00', '18:14:00', '18:17:00', '18:18:00', '18:19:00', '18:21:00', '18:22:00', '18:24:00', '18:28:00', '18:31:00', '18:34:00', '18:38:00', '18:41:00', Null);\n",
            "INSERT INTO TrainSchedule VALUES (id, 8, '18:15:00', '18:17:00', '18:20:00', '18:23:00', '18:25:00', '18:27:00', '18:29:00', '18:32:00', '18:33:00', '18:34:00', '18:36:00', '18:37:00', '18:39:00', '18:43:00', '18:46:00', '18:49:00', '18:53:00', '18:56:00', Null);\n",
            "INSERT INTO TrainSchedule VALUES (id, 8, '18:30:00', '18:32:00', '18:35:00', '18:38:00', '18:40:00', '18:42:00', '18:44:00', '18:47:00', '18:48:00', '18:49:00', '18:51:00', '18:52:00', '18:54:00', '18:58:00', '19:01:00', '19:04:00', '19:08:00', '19:11:00', Null);\n",
            "INSERT INTO TrainSchedule VALUES (id, 8, '18:45:00', '18:47:00', '18:50:00', '18:53:00', '18:55:00', '18:57:00', '18:59:00', '19:02:00', '19:03:00', '19:04:00', '19:06:00', '19:07:00', '19:09:00', '19:13:00', '19:16:00', '19:19:00', '19:23:00', '19:26:00', Null);\n",
            "INSERT INTO TrainSchedule VALUES (id, 8, '19:00:00', '19:02:00', '19:05:00', '19:08:00', '19:10:00', '19:12:00', '19:14:00', '19:17:00', '19:18:00', '19:19:00', '19:21:00', '19:22:00', '19:24:00', '19:28:00', '19:31:00', '19:34:00', '19:38:00', '19:41:00', Null);\n",
            "INSERT INTO TrainSchedule VALUES (id, 8, '19:19:00', '19:21:00', '19:24:00', '19:27:00', '19:29:00', '19:31:00', '19:33:00', '19:36:00', '19:37:00', '19:38:00', '19:40:00', '19:41:00', '19:43:00', '19:47:00', '19:50:00', '19:53:00', '19:57:00', '20:00:00', Null);\n",
            "INSERT INTO TrainSchedule VALUES (id, 8, '19:40:00', '19:42:00', '19:45:00', '19:48:00', '19:50:00', '19:52:00', '19:54:00', '19:57:00', '19:58:00', '19:59:00', '20:01:00', '20:02:00', '20:04:00', '20:08:00', '20:11:00', '20:14:00', '20:18:00', '20:21:00', Null);\n",
            "INSERT INTO TrainSchedule VALUES (id, 8, '20:00:00', '20:02:00', '20:05:00', '20:08:00', '20:10:00', '20:12:00', '20:14:00', '20:17:00', '20:18:00', '20:19:00', '20:21:00', '20:22:00', '20:24:00', '20:28:00', '20:31:00', '20:34:00', '20:38:00', '20:41:00', Null);\n",
            "INSERT INTO TrainSchedule VALUES (id, 8, '20:20:00', '20:22:00', '20:25:00', '20:28:00', '20:30:00', '20:32:00', '20:34:00', '20:37:00', '20:38:00', '20:39:00', '20:41:00', '20:42:00', '20:44:00', '20:48:00', '20:51:00', '20:54:00', '20:58:00', '21:01:00', Null);\n",
            "INSERT INTO TrainSchedule VALUES (id, 8, '20:40:00', '20:42:00', '20:45:00', '20:48:00', '20:50:00', '20:52:00', '20:54:00', '20:57:00', '20:58:00', '20:59:00', '21:01:00', '21:02:00', '21:04:00', '21:08:00', '21:11:00', '21:14:00', '21:18:00', '21:21:00', Null);\n",
            "INSERT INTO TrainSchedule VALUES (id, 8, '21:00:00', '21:02:00', '21:05:00', '21:08:00', '21:10:00', '21:12:00', '21:14:00', '21:17:00', '21:18:00', '21:19:00', '21:21:00', '21:22:00', '21:24:00', '21:28:00', '21:31:00', '21:34:00', '21:38:00', '21:41:00', Null);\n",
            "INSERT INTO TrainSchedule VALUES (id, 8, '21:20:00', '21:22:00', '21:25:00', '21:28:00', '21:30:00', '21:32:00', '21:34:00', '21:37:00', '21:38:00', '21:39:00', '21:41:00', '21:42:00', '21:44:00', '21:48:00', '21:51:00', '21:54:00', '21:58:00', '22:01:00', Null);\n",
            "INSERT INTO TrainSchedule VALUES (id, 8, '21:40:00', '21:42:00', '21:45:00', '21:48:00', '21:50:00', '21:52:00', '21:54:00', '21:57:00', '21:58:00', '21:59:00', '22:01:00', '22:02:00', '22:04:00', '22:08:00', '22:11:00', '22:14:00', '22:18:00', '22:21:00', Null);\n",
            "INSERT INTO TrainSchedule VALUES (id, 8, '22:00:00', '22:02:00', '22:05:00', '22:08:00', '22:10:00', '22:12:00', '22:14:00', '22:17:00', '22:18:00', '22:19:00', '22:21:00', '22:22:00', '22:24:00', '22:28:00', '22:31:00', '22:34:00', '22:38:00', '22:41:00', Null);\n",
            "INSERT INTO TrainSchedule VALUES (id, 8, '22:20:00', '22:22:00', '22:25:00', '22:28:00', '22:30:00', '22:32:00', '22:34:00', '22:37:00', '22:38:00', '22:39:00', '22:41:00', '22:42:00', '22:44:00', '22:48:00', '22:51:00', '22:54:00', '22:58:00', '23:01:00', Null);\n",
            "INSERT INTO TrainSchedule VALUES (id, 8, '22:40:00', '22:42:00', '22:45:00', '22:48:00', '22:50:00', '22:52:00', '22:54:00', '22:57:00', '22:58:00', '22:59:00', '23:01:00', '23:02:00', '23:04:00', '23:08:00', '23:11:00', '23:14:00', '23:18:00', '23:21:00', Null);\n",
            "INSERT INTO TrainSchedule VALUES (id, 8, '23:00:00', '23:02:00', '23:05:00', '23:08:00', '23:10:00', '23:12:00', '23:14:00', '23:17:00', '23:18:00', '23:19:00', '23:21:00', '23:22:00', '23:24:00', '23:28:00', '23:31:00', '23:34:00', '23:38:00', '23:41:00', Null);\n",
            "INSERT INTO TrainSchedule VALUES (id, 8, '23:20:00', '23:22:00', '23:25:00', '23:28:00', '23:30:00', '23:32:00', '23:34:00', '23:37:00', '23:38:00', '23:39:00', '23:41:00', '23:42:00', '23:44:00', '23:48:00', '23:51:00', '23:54:00', '23:58:00', '00:01:00', Null);\n",
            "INSERT INTO TrainSchedule VALUES (id, 8, '23:40:00', '23:42:00', '23:45:00', '23:48:00', '23:50:00', '23:52:00', '23:54:00', '23:57:00', '23:58:00', '23:59:00', '00:01:00', '00:02:00', '00:04:00', '00:08:00', '00:11:00', '00:14:00', '00:18:00', '00:21:00', Null);\n",
            "INSERT INTO TrainSchedule VALUES (id, 8, '00:00:00', '00:02:00', '00:05:00', '00:08:00', '00:10:00', '00:12:00', '00:14:00', '00:17:00', '00:18:00', '00:19:00', '00:21:00', '00:22:00', '00:24:00', '00:28:00', '00:31:00', '00:34:00', '00:38:00', '00:41:00', Null);\n",
            "INSERT INTO TrainSchedule VALUES (id, 8, '00:20:00', '00:22:00', '00:25:00', '00:28:00', '00:30:00', '00:32:00', '00:34:00', '00:37:00', '00:38:00', '00:39:00', '00:41:00', '00:42:00', '00:44:00', '00:48:00', '00:51:00', '00:54:00', '00:58:00', '01:01:00', Null);\n",
            "INSERT INTO TrainSchedule VALUES (id, 8, '00:40:00', '00:42:00', '00:45:00', '00:48:00', '00:50:00', '00:52:00', '00:54:00', '00:57:00', '00:58:00', '00:59:00', '01:01:00', '01:02:00', '01:04:00', '01:08:00', '01:11:00', '01:14:00', '01:18:00', '01:21:00', Null);\n",
            "INSERT INTO TrainSchedule VALUES (id, 8, '01:00:00', '01:02:00', '01:05:00', '01:08:00', '01:10:00', '01:12:00', '01:14:00', '01:17:00', '01:18:00', '01:19:00', '01:21:00', '01:22:00', '01:24:00', '01:28:00', '01:31:00', '01:34:00', '01:38:00', '01:41:00', Null);\n"
          ]
        }
      ]
    },
    {
      "cell_type": "markdown",
      "source": [
        "______________________________\n",
        "## Route Insert Statements"
      ],
      "metadata": {
        "id": "5Btk3ZSAG_2M"
      }
    },
    {
      "cell_type": "markdown",
      "source": [
        "Template: INSERT INTO Route VALUES(1, 'Indian Creek', 'Kensington', 'Avondale', 'Decatur', 'East Lake', 'Candler Park', 'Inman Park/Reynoldstown', 'King Memorial', 'Georgia State', 'Five Points', 'GWCC/Mercedes-Benz Stadium', 'Vine City', 'Ashby', 'West Lake', 'H.E. Holmes', Null, Null, Null, Null);"
      ],
      "metadata": {
        "id": "Ti6Ntc-uGjmI"
      }
    },
    {
      "cell_type": "code",
      "source": [
        "def makeRoute(line, dir, st_names):\n",
        "    ind = (str(line), str(dir))\n",
        "    line_id = lineDict[ind]\n",
        "    insert_statement = \"INSERT INTO Route VALUES (\" + str(line_id) \n",
        "    for i in range(len(st_names)):\n",
        "        station = st_names[i]\n",
        "        insert_statement += \", '\" + station + \"'\"\n",
        "\n",
        "    for i in range(len(st_names), 19):\n",
        "        insert_statement += \", Null\"\n",
        "        \n",
        "    insert_statement += \");\"\n",
        "    print(insert_statement)"
      ],
      "metadata": {
        "id": "8jwy6LJ96E_9"
      },
      "execution_count": 85,
      "outputs": []
    },
    {
      "cell_type": "code",
      "source": [
        "makeRoute(\"blue\", \"w\", st_names_blue_west)"
      ],
      "metadata": {
        "colab": {
          "base_uri": "https://localhost:8080/"
        },
        "id": "6XhEjvtB6FtS",
        "outputId": "f9f8e185-f588-4b0a-a288-c2599a0c87fd"
      },
      "execution_count": 86,
      "outputs": [
        {
          "output_type": "stream",
          "name": "stdout",
          "text": [
            "INSERT INTO Route VALUES (1, 'Indian Creek', 'Kensington', 'Avondale', 'Decatur', 'East Lake', 'Candler Park', 'Inman Park/Reynoldstown', 'King Memorial', 'Georgia State', 'Five Points', 'GWCC/Mercedes-Benz Stadium', 'Vine City', 'Ashby', 'West Lake', 'H.E. Holmes', Null, Null, Null, Null);\n"
          ]
        }
      ]
    },
    {
      "cell_type": "markdown",
      "source": [
        "______________________________\n",
        "## StationHasRoute Insert Statements"
      ],
      "metadata": {
        "id": "NleOgnTSHCJS"
      }
    },
    {
      "cell_type": "markdown",
      "source": [
        "Template: INSERT INTO StationHasRoute VALUES(\"H.E. Holmes\", 2, \"st_1\");"
      ],
      "metadata": {
        "id": "uaxtd-iedmx1"
      }
    },
    {
      "cell_type": "code",
      "source": [
        "def makeStationHasRoute(line, dir, st_names):\n",
        "    ind = (str(line), str(dir))\n",
        "    line_id = lineDict[ind]\n",
        "    for i in range(len(st_names)):\n",
        "        station = st_names[i]\n",
        "        insert_statement = \"INSERT INTO StationHasRoute VALUES ('\" + station + \"', \" + str(line_id) + \", 'st_\" + str(i+1) + \"');\"\n",
        "        print(insert_statement)"
      ],
      "metadata": {
        "id": "LPHrxhbrde15"
      },
      "execution_count": 87,
      "outputs": []
    },
    {
      "cell_type": "code",
      "source": [
        "makeStationHasRoute('blue', 'w', st_names_blue_west)"
      ],
      "metadata": {
        "colab": {
          "base_uri": "https://localhost:8080/"
        },
        "id": "h-thajnmjKTZ",
        "outputId": "e4963f11-dfc1-4ccb-9600-b5427cdb7884"
      },
      "execution_count": 88,
      "outputs": [
        {
          "output_type": "stream",
          "name": "stdout",
          "text": [
            "INSERT INTO StationHasRoute VALUES ('Indian Creek', 1, 'st_1');\n",
            "INSERT INTO StationHasRoute VALUES ('Kensington', 1, 'st_2');\n",
            "INSERT INTO StationHasRoute VALUES ('Avondale', 1, 'st_3');\n",
            "INSERT INTO StationHasRoute VALUES ('Decatur', 1, 'st_4');\n",
            "INSERT INTO StationHasRoute VALUES ('East Lake', 1, 'st_5');\n",
            "INSERT INTO StationHasRoute VALUES ('Candler Park', 1, 'st_6');\n",
            "INSERT INTO StationHasRoute VALUES ('Inman Park/Reynoldstown', 1, 'st_7');\n",
            "INSERT INTO StationHasRoute VALUES ('King Memorial', 1, 'st_8');\n",
            "INSERT INTO StationHasRoute VALUES ('Georgia State', 1, 'st_9');\n",
            "INSERT INTO StationHasRoute VALUES ('Five Points', 1, 'st_10');\n",
            "INSERT INTO StationHasRoute VALUES ('GWCC/Mercedes-Benz Stadium', 1, 'st_11');\n",
            "INSERT INTO StationHasRoute VALUES ('Vine City', 1, 'st_12');\n",
            "INSERT INTO StationHasRoute VALUES ('Ashby', 1, 'st_13');\n",
            "INSERT INTO StationHasRoute VALUES ('West Lake', 1, 'st_14');\n",
            "INSERT INTO StationHasRoute VALUES ('H.E. Holmes', 1, 'st_15');\n"
          ]
        }
      ]
    },
    {
      "cell_type": "code",
      "source": [
        "makeStationHasRoute('blue', 'e', st_names_blue_east)"
      ],
      "metadata": {
        "colab": {
          "base_uri": "https://localhost:8080/"
        },
        "id": "DN3vXOKmfb7s",
        "outputId": "967f52f9-605c-4216-8631-6a40da12ea4c"
      },
      "execution_count": 89,
      "outputs": [
        {
          "output_type": "stream",
          "name": "stdout",
          "text": [
            "INSERT INTO StationHasRoute VALUES ('H.E. Holmes', 2, 'st_1');\n",
            "INSERT INTO StationHasRoute VALUES ('West Lake', 2, 'st_2');\n",
            "INSERT INTO StationHasRoute VALUES ('Ashby', 2, 'st_3');\n",
            "INSERT INTO StationHasRoute VALUES ('Vine City', 2, 'st_4');\n",
            "INSERT INTO StationHasRoute VALUES ('GWCC/Mercedes-Benz Stadium', 2, 'st_5');\n",
            "INSERT INTO StationHasRoute VALUES ('Five Points', 2, 'st_6');\n",
            "INSERT INTO StationHasRoute VALUES ('Georgia State', 2, 'st_7');\n",
            "INSERT INTO StationHasRoute VALUES ('King Memorial', 2, 'st_8');\n",
            "INSERT INTO StationHasRoute VALUES ('Inman Park/Reynoldstown', 2, 'st_9');\n",
            "INSERT INTO StationHasRoute VALUES ('Candler Park', 2, 'st_10');\n",
            "INSERT INTO StationHasRoute VALUES ('East Lake', 2, 'st_11');\n",
            "INSERT INTO StationHasRoute VALUES ('Decatur', 2, 'st_12');\n",
            "INSERT INTO StationHasRoute VALUES ('Avondale', 2, 'st_13');\n",
            "INSERT INTO StationHasRoute VALUES ('Kensington', 2, 'st_14');\n",
            "INSERT INTO StationHasRoute VALUES ('Indian Creek', 2, 'st_15');\n"
          ]
        }
      ]
    },
    {
      "cell_type": "code",
      "source": [
        "makeStationHasRoute('green', 'w', st_names_green_west)"
      ],
      "metadata": {
        "colab": {
          "base_uri": "https://localhost:8080/"
        },
        "id": "mn3m4JCK5080",
        "outputId": "b61998bd-a311-4cbe-82b7-e0cacaeb7795"
      },
      "execution_count": 90,
      "outputs": [
        {
          "output_type": "stream",
          "name": "stdout",
          "text": [
            "INSERT INTO StationHasRoute VALUES ('Candler Park', 3, 'st_1');\n",
            "INSERT INTO StationHasRoute VALUES ('Inman Park/Reynoldstown', 3, 'st_2');\n",
            "INSERT INTO StationHasRoute VALUES ('King Memorial', 3, 'st_3');\n",
            "INSERT INTO StationHasRoute VALUES ('Georgia State', 3, 'st_4');\n",
            "INSERT INTO StationHasRoute VALUES ('Five Points', 3, 'st_5');\n",
            "INSERT INTO StationHasRoute VALUES ('GWCC/Mercedes-Benz Stadium', 3, 'st_6');\n",
            "INSERT INTO StationHasRoute VALUES ('Vine City', 3, 'st_7');\n",
            "INSERT INTO StationHasRoute VALUES ('Ashby', 3, 'st_8');\n",
            "INSERT INTO StationHasRoute VALUES ('Bankhead', 3, 'st_9');\n"
          ]
        }
      ]
    },
    {
      "cell_type": "code",
      "source": [
        "makeStationHasRoute('green', 'e', st_names_green_east)"
      ],
      "metadata": {
        "colab": {
          "base_uri": "https://localhost:8080/"
        },
        "id": "A-xOcsP_57KZ",
        "outputId": "b20bc6dd-235d-4409-b63a-34c2e6914356"
      },
      "execution_count": 91,
      "outputs": [
        {
          "output_type": "stream",
          "name": "stdout",
          "text": [
            "INSERT INTO StationHasRoute VALUES ('Bankhead', 4, 'st_1');\n",
            "INSERT INTO StationHasRoute VALUES ('Ashby', 4, 'st_2');\n",
            "INSERT INTO StationHasRoute VALUES ('Vine City', 4, 'st_3');\n",
            "INSERT INTO StationHasRoute VALUES ('GWCC/Mercedes-Benz Stadium', 4, 'st_4');\n",
            "INSERT INTO StationHasRoute VALUES ('Five Points', 4, 'st_5');\n",
            "INSERT INTO StationHasRoute VALUES ('Georgia State', 4, 'st_6');\n",
            "INSERT INTO StationHasRoute VALUES ('King Memorial', 4, 'st_7');\n",
            "INSERT INTO StationHasRoute VALUES ('Inman Park/Reynoldstown', 4, 'st_8');\n",
            "INSERT INTO StationHasRoute VALUES ('Candler Park', 4, 'st_9');\n"
          ]
        }
      ]
    },
    {
      "cell_type": "code",
      "source": [
        "makeStationHasRoute('red', 's', st_names_red_south)"
      ],
      "metadata": {
        "colab": {
          "base_uri": "https://localhost:8080/"
        },
        "id": "um-HZfP5Cizo",
        "outputId": "397a3287-b9a3-41fe-ce97-5b3d88df2e5b"
      },
      "execution_count": 92,
      "outputs": [
        {
          "output_type": "stream",
          "name": "stdout",
          "text": [
            "INSERT INTO StationHasRoute VALUES ('North Springs', 5, 'st_1');\n",
            "INSERT INTO StationHasRoute VALUES ('Sandy Springs', 5, 'st_2');\n",
            "INSERT INTO StationHasRoute VALUES ('Dunwoody', 5, 'st_3');\n",
            "INSERT INTO StationHasRoute VALUES ('Medical Center', 5, 'st_4');\n",
            "INSERT INTO StationHasRoute VALUES ('Buckhead', 5, 'st_5');\n",
            "INSERT INTO StationHasRoute VALUES ('Lindbergh Center', 5, 'st_6');\n",
            "INSERT INTO StationHasRoute VALUES ('Arts Center', 5, 'st_7');\n",
            "INSERT INTO StationHasRoute VALUES ('Midtown', 5, 'st_8');\n",
            "INSERT INTO StationHasRoute VALUES ('North Avenue', 5, 'st_9');\n",
            "INSERT INTO StationHasRoute VALUES ('Civic Center', 5, 'st_10');\n",
            "INSERT INTO StationHasRoute VALUES ('Peachtree Center', 5, 'st_11');\n",
            "INSERT INTO StationHasRoute VALUES ('Five Points', 5, 'st_12');\n",
            "INSERT INTO StationHasRoute VALUES ('Garnett', 5, 'st_13');\n",
            "INSERT INTO StationHasRoute VALUES ('West End', 5, 'st_14');\n",
            "INSERT INTO StationHasRoute VALUES ('Oakland City', 5, 'st_15');\n",
            "INSERT INTO StationHasRoute VALUES ('Lakewood', 5, 'st_16');\n",
            "INSERT INTO StationHasRoute VALUES ('East Point', 5, 'st_17');\n",
            "INSERT INTO StationHasRoute VALUES ('College Park', 5, 'st_18');\n",
            "INSERT INTO StationHasRoute VALUES ('Airport', 5, 'st_19');\n"
          ]
        }
      ]
    },
    {
      "cell_type": "code",
      "source": [
        "makeStationHasRoute('red', 'n', st_names_red_north)"
      ],
      "metadata": {
        "colab": {
          "base_uri": "https://localhost:8080/"
        },
        "id": "4ePN4qEaChy6",
        "outputId": "ad0a1dfb-bed1-4eb5-afba-87cf32edfb9a"
      },
      "execution_count": 93,
      "outputs": [
        {
          "output_type": "stream",
          "name": "stdout",
          "text": [
            "INSERT INTO StationHasRoute VALUES ('Airport', 6, 'st_1');\n",
            "INSERT INTO StationHasRoute VALUES ('College Park', 6, 'st_2');\n",
            "INSERT INTO StationHasRoute VALUES ('East Point', 6, 'st_3');\n",
            "INSERT INTO StationHasRoute VALUES ('Lakewood', 6, 'st_4');\n",
            "INSERT INTO StationHasRoute VALUES ('Oakland City', 6, 'st_5');\n",
            "INSERT INTO StationHasRoute VALUES ('West End', 6, 'st_6');\n",
            "INSERT INTO StationHasRoute VALUES ('Garnett', 6, 'st_7');\n",
            "INSERT INTO StationHasRoute VALUES ('Five Points', 6, 'st_8');\n",
            "INSERT INTO StationHasRoute VALUES ('Peachtree Center', 6, 'st_9');\n",
            "INSERT INTO StationHasRoute VALUES ('Civic Center', 6, 'st_10');\n",
            "INSERT INTO StationHasRoute VALUES ('North Avenue', 6, 'st_11');\n",
            "INSERT INTO StationHasRoute VALUES ('Midtown', 6, 'st_12');\n",
            "INSERT INTO StationHasRoute VALUES ('Arts Center', 6, 'st_13');\n",
            "INSERT INTO StationHasRoute VALUES ('Lindbergh Center', 6, 'st_14');\n",
            "INSERT INTO StationHasRoute VALUES ('Buckhead', 6, 'st_15');\n",
            "INSERT INTO StationHasRoute VALUES ('Medical Center', 6, 'st_16');\n",
            "INSERT INTO StationHasRoute VALUES ('Dunwoody', 6, 'st_17');\n",
            "INSERT INTO StationHasRoute VALUES ('Sandy Springs', 6, 'st_18');\n",
            "INSERT INTO StationHasRoute VALUES ('North Springs', 6, 'st_19');\n"
          ]
        }
      ]
    },
    {
      "cell_type": "code",
      "source": [
        "makeStationHasRoute('gold', 's', st_names_gold_south)"
      ],
      "metadata": {
        "colab": {
          "base_uri": "https://localhost:8080/"
        },
        "id": "8MPwdDlfCkI4",
        "outputId": "5eea97aa-b321-4d7d-d3b6-c63b0b0cd28b"
      },
      "execution_count": 94,
      "outputs": [
        {
          "output_type": "stream",
          "name": "stdout",
          "text": [
            "INSERT INTO StationHasRoute VALUES ('Doraville', 7, 'st_1');\n",
            "INSERT INTO StationHasRoute VALUES ('Chamblee', 7, 'st_2');\n",
            "INSERT INTO StationHasRoute VALUES ('Brookhaven', 7, 'st_3');\n",
            "INSERT INTO StationHasRoute VALUES ('Lenox', 7, 'st_4');\n",
            "INSERT INTO StationHasRoute VALUES ('Lindbergh Center', 7, 'st_5');\n",
            "INSERT INTO StationHasRoute VALUES ('Arts Center', 7, 'st_6');\n",
            "INSERT INTO StationHasRoute VALUES ('Midtown', 7, 'st_7');\n",
            "INSERT INTO StationHasRoute VALUES ('North Avenue', 7, 'st_8');\n",
            "INSERT INTO StationHasRoute VALUES ('Civic Center', 7, 'st_9');\n",
            "INSERT INTO StationHasRoute VALUES ('Peachtree Center', 7, 'st_10');\n",
            "INSERT INTO StationHasRoute VALUES ('Five Points', 7, 'st_11');\n",
            "INSERT INTO StationHasRoute VALUES ('Garnett', 7, 'st_12');\n",
            "INSERT INTO StationHasRoute VALUES ('West End', 7, 'st_13');\n",
            "INSERT INTO StationHasRoute VALUES ('Oakland City', 7, 'st_14');\n",
            "INSERT INTO StationHasRoute VALUES ('Lakewood', 7, 'st_15');\n",
            "INSERT INTO StationHasRoute VALUES ('East Point', 7, 'st_16');\n",
            "INSERT INTO StationHasRoute VALUES ('College Park', 7, 'st_17');\n",
            "INSERT INTO StationHasRoute VALUES ('Airport', 7, 'st_18');\n"
          ]
        }
      ]
    },
    {
      "cell_type": "code",
      "source": [
        "makeStationHasRoute('gold', 'n', st_names_gold_north)"
      ],
      "metadata": {
        "colab": {
          "base_uri": "https://localhost:8080/"
        },
        "id": "070NPFDiCjrW",
        "outputId": "028568ff-301d-45fb-ba6e-2398a23bd8ea"
      },
      "execution_count": 95,
      "outputs": [
        {
          "output_type": "stream",
          "name": "stdout",
          "text": [
            "INSERT INTO StationHasRoute VALUES ('Airport', 8, 'st_1');\n",
            "INSERT INTO StationHasRoute VALUES ('College Park', 8, 'st_2');\n",
            "INSERT INTO StationHasRoute VALUES ('East Point', 8, 'st_3');\n",
            "INSERT INTO StationHasRoute VALUES ('Lakewood', 8, 'st_4');\n",
            "INSERT INTO StationHasRoute VALUES ('Oakland City', 8, 'st_5');\n",
            "INSERT INTO StationHasRoute VALUES ('West End', 8, 'st_6');\n",
            "INSERT INTO StationHasRoute VALUES ('Garnett', 8, 'st_7');\n",
            "INSERT INTO StationHasRoute VALUES ('Five Points', 8, 'st_8');\n",
            "INSERT INTO StationHasRoute VALUES ('Peachtree Center', 8, 'st_9');\n",
            "INSERT INTO StationHasRoute VALUES ('Civic Center', 8, 'st_10');\n",
            "INSERT INTO StationHasRoute VALUES ('North Avenue', 8, 'st_11');\n",
            "INSERT INTO StationHasRoute VALUES ('Midtown', 8, 'st_12');\n",
            "INSERT INTO StationHasRoute VALUES ('Arts Center', 8, 'st_13');\n",
            "INSERT INTO StationHasRoute VALUES ('Lindbergh Center', 8, 'st_14');\n",
            "INSERT INTO StationHasRoute VALUES ('Lenox', 8, 'st_15');\n",
            "INSERT INTO StationHasRoute VALUES ('Brookhaven', 8, 'st_16');\n",
            "INSERT INTO StationHasRoute VALUES ('Chamblee', 8, 'st_17');\n",
            "INSERT INTO StationHasRoute VALUES ('Doraville', 8, 'st_18');\n"
          ]
        }
      ]
    }
  ]
}